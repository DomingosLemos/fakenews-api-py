{
 "cells": [
  {
   "cell_type": "code",
   "execution_count": 693,
   "id": "0747b816",
   "metadata": {},
   "outputs": [
    {
     "data": {
      "text/plain": [
       "'\\nimport pandas as pd\\nimport numpy as np\\nimport time\\nimport requests\\nfrom bs4 import BeautifulSoup\\nfrom selenium import webdriver\\nfrom selenium.webdriver.firefox.options import Options\\nfrom selenium.common.exceptions import NoSuchElementException\\n'"
      ]
     },
     "execution_count": 693,
     "metadata": {},
     "output_type": "execute_result"
    }
   ],
   "source": [
    "'''\n",
    "import pandas as pd\n",
    "import numpy as np\n",
    "import time\n",
    "import requests\n",
    "from bs4 import BeautifulSoup\n",
    "from selenium import webdriver\n",
    "from selenium.webdriver.firefox.options import Options\n",
    "from selenium.common.exceptions import NoSuchElementException\n",
    "'''"
   ]
  },
  {
   "cell_type": "code",
   "execution_count": 694,
   "id": "e4aa5bee",
   "metadata": {},
   "outputs": [],
   "source": [
    "driver = webdriver.Chrome()  # Optional argument, if not specified will search path."
   ]
  },
  {
   "cell_type": "code",
   "execution_count": 695,
   "id": "beed7301",
   "metadata": {},
   "outputs": [],
   "source": [
    "#url = 'https://www.bbc.com/portuguese/brasil-61367687'\n",
    "#url = 'https://www.metropoles.com/brasil/politica-brasil/bolsonaro-critica-estados-sobre-icms-vitoria-do-bem-contra-ganancia'\n",
    "#url = 'https://www.estadao.com.br/politica/tse-encerra-teste-de-seguranca-de-urnas-eletronicas-e-diz-nao-ter-encontrado-falhas/'\n",
    "#url = 'https://www.cnnbrasil.com.br/politica/a-cnn-bolsonaro-confirma-datena-ao-senado-na-chapa-de-tarcisio/'\n",
    "#url = 'https://exame.com/invest/mercados/ibovespa-fecha-em-forte-alta-e-tem-1a-semana-positiva-desde-marco/'\n",
    "#url = 'https://exame.com/future-of-money/fundador-da-terra-defende-distribuicao-de-tokens-para-salvar-blockchain/'\n",
    "#url = 'https://sicnoticias.pt/mundo/conflito-russia-ucrania/ucrania-eua-vao-retirar-10-500-militares-destacados-na-europa-nos-proximos-meses/'\n",
    "#url = 'https://www.noticiasaominuto.com/lifestyle/1995758/fuja-destes-signos-sao-os-mais-neuroticos-do-zodiaco'\n",
    "#url = 'https://jornaldebrasilia.com.br/noticias/politica-e-poder/bolsonaro-diz-que-espera-conseguir-mexer-na-petrobras-apos-troca-de-ministerio/'\n",
    "#url = 'https://www.gazetadopovo.com.br/eleicoes/2022/petrobras-o-que-presidenciaveis-dizem-sobre-lucro-precos-privatizacao/'\n",
    "url = 'https://g1.globo.com/politica/noticia/2022/05/13/orcamento-secreto-congresso-so-detalhou-ao-stf-r-109-bi-dos-r-369-bi-reservados-em-2020-e-2021.ghtml'\n",
    "#url = 'https://www.cartacapital.com.br/cartaexpressa/parana-pesquisas-em-minas-lula-lidera-com-41-bolsonaro-tem-33-e-ciro-fica-com-6/?utm_source=terra_capa_noticias&utm_medium=referral'\n",
    "driver.get(url)\n"
   ]
  },
  {
   "cell_type": "code",
   "execution_count": 696,
   "id": "ced2f3e5",
   "metadata": {
    "scrolled": true
   },
   "outputs": [],
   "source": [
    "html = driver.page_source\n",
    "#html"
   ]
  },
  {
   "cell_type": "code",
   "execution_count": 697,
   "id": "fc362ef8",
   "metadata": {
    "scrolled": true
   },
   "outputs": [
    {
     "name": "stdout",
     "output_type": "stream",
     "text": [
      "title: 'Orçamento secreto': Congresso só detalhou ao STF R$ 10,9 bi dos R$ 36,9 bi reservados em 2020 e 2021 | Política | G1\n"
     ]
    }
   ],
   "source": [
    "title = driver.title\n",
    "print('title:', title)"
   ]
  },
  {
   "cell_type": "code",
   "execution_count": 698,
   "id": "ee536015",
   "metadata": {},
   "outputs": [
    {
     "name": "stdout",
     "output_type": "stream",
     "text": [
      "Notícia: Por Ana Paula Castro, Elisa Clavery, Gabriel Tibaldo, Gustavo Garcia, João Paulo Machado, Marcela Mattos, Marcelo Parreira, Mateus Rodrigues, Sara Resende e Yasmim Perna, TV Globo, g1 e GloboNews — BrasíliaOs documentos enviados pelo Congresso Nacional ao Supremo Tribunal Federal (STF) com dados das emendas de relator executadas em 2020 e 2021 detalham apenas R$ 10,9 bilhões dos quase R$ 36,9 bilhões reservados para esses repasses nos dois anos – ou seja, 29,6% do total que pode ter sido gasto no período.\n"
     ]
    }
   ],
   "source": [
    "from selenium.webdriver.common.by import By\n",
    "elements = driver.find_elements(By.TAG_NAME, 'p')\n",
    "#obter os primeiros 3 paragrafos da notícia\n",
    "num = 0\n",
    "body = \"\"\n",
    "for e in elements:\n",
    "    if(len(e.text)>150):\n",
    "        body += e.text\n",
    "        num+=1\n",
    "    if num ==2:\n",
    "        break\n",
    "print('Notícia:', body)\n"
   ]
  },
  {
   "cell_type": "code",
   "execution_count": 699,
   "id": "225a57a4",
   "metadata": {},
   "outputs": [
    {
     "name": "stdout",
     "output_type": "stream",
     "text": [
      "Autor: \n"
     ]
    }
   ],
   "source": [
    "autors = driver.find_elements(By.XPATH, \"//*[contains(@class,'uthor')]\")\n",
    "autor_txt = \"\"\n",
    "autor = \"\"\n",
    "for e in autors:\n",
    "    if (len(e.text)>0):\n",
    "        autor_txt = e.text\n",
    "        autor = autor_txt.replace('por ', '').replace('Por ', '')\n",
    "        p = re.search(\"\\n\", autor)\n",
    "        if int(0 if p is None else p.start()) > 0:\n",
    "            autor = autor[0:p.start()]\n",
    "        break\n",
    "print ('Autor:', autor)"
   ]
  },
  {
   "cell_type": "code",
   "execution_count": 700,
   "id": "9f1d64a4",
   "metadata": {},
   "outputs": [
    {
     "name": "stdout",
     "output_type": "stream",
     "text": [
      "Data: 13/05/2022 21h35 Atualizado há 6 horas\n"
     ]
    }
   ],
   "source": [
    "#obter a data\n",
    "import re\n",
    "dt = \"\"\n",
    "p=re.search(r\"\\d{2}[\\/.-]\\d{2}[\\/.-]\\d{4}\", autor_txt)\n",
    "\n",
    "#verificar se encontra uma data no nome de autor com formato dd-mm-aaaa\n",
    "if int(0 if p is None else p.start()) > 0:\n",
    "    dt = autor_txt[p.start():p.start()+10]\n",
    "elif (dt == \"\"):\n",
    "    p=re.search(r\"\\d{4}[\\/.-]\\d{2}[\\/.-]\\d{2}\", autor_txt)\n",
    "    #verificar se encontra uma data no nome de autor com formato aaaa-mm-dd\n",
    "    if int(0 if p is None else p.start()) > 0:\n",
    "        dt = autor_txt[p.start():p.start()+10]\n",
    "    else:\n",
    "        #procurar uma tag com data\n",
    "        data = driver.find_elements(By.XPATH, \"//*[contains(@class,'date')]\")\n",
    "        for e in data:\n",
    "            if(len(e.text)>0):\n",
    "                dt = e.text\n",
    "                break\n",
    "\n",
    "print (\"Data:\", dt)\n",
    "        "
   ]
  },
  {
   "cell_type": "code",
   "execution_count": 701,
   "id": "5b297c7d",
   "metadata": {},
   "outputs": [
    {
     "data": {
      "text/plain": [
       "''"
      ]
     },
     "execution_count": 701,
     "metadata": {},
     "output_type": "execute_result"
    }
   ],
   "source": [
    "autor_txt\n",
    "\n"
   ]
  },
  {
   "cell_type": "code",
   "execution_count": 702,
   "id": "ef67a89f",
   "metadata": {},
   "outputs": [],
   "source": [
    "#import time\n",
    "\n",
    "#from selenium import webdriver\n",
    "\n",
    "\n",
    "#driver.quit()"
   ]
  }
 ],
 "metadata": {
  "kernelspec": {
   "display_name": "Python 3",
   "language": "python",
   "name": "python3"
  },
  "language_info": {
   "codemirror_mode": {
    "name": "ipython",
    "version": 3
   },
   "file_extension": ".py",
   "mimetype": "text/x-python",
   "name": "python",
   "nbconvert_exporter": "python",
   "pygments_lexer": "ipython3",
   "version": "3.8.8"
  }
 },
 "nbformat": 4,
 "nbformat_minor": 5
}
